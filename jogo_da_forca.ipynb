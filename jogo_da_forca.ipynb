{
 "cells": [
  {
   "cell_type": "markdown",
   "id": "0a8b96e7",
   "metadata": {},
   "source": [
    "# Jogo da Forca"
   ]
  },
  {
   "cell_type": "code",
   "execution_count": null,
   "id": "f3cd355d",
   "metadata": {},
   "outputs": [],
   "source": [
    "PALAVRA = input('Digite a palavra: ').lower().strip()\n",
    "DIGITADAS = []\n",
    "CERTAS = []\n",
    "ERROU = 0"
   ]
  },
  {
   "cell_type": "code",
   "execution_count": null,
   "id": "79aefc9f",
   "metadata": {},
   "outputs": [],
   "source": [
    "while True:\n",
    "    print(f\"\\nVocê tem {6 - ERROU} chance's\")\n",
    "    secreta = ''\n",
    "\n",
    "    for i in PALAVRA:\n",
    "        if i in CERTAS:\n",
    "            secreta += i\n",
    "        else:\n",
    "            secreta = ''\n",
    "            break\n",
    "\n",
    "    if secreta == PALAVRA:\n",
    "        print('\\nVocê ganhou!')\n",
    "        break\n",
    "\n",
    "    if ERROU == 6:\n",
    "        print('\\nVocê foi enforcado!')\n",
    "        break\n",
    "\n",
    "    tentativa = input('Digite uma letra: ').lower().strip()\n",
    "    if tentativa.isalpha():\n",
    "        if len(tentativa) > 1:\n",
    "            print('\\nVocê só pode digitar uma letra por vez')\n",
    "            del tentativa\n",
    "            continue\n",
    "\n",
    "        if tentativa in DIGITADAS:\n",
    "            print(f'\\nVocê já digitou a letra \"{tentativa}\"')\n",
    "            del tentativa\n",
    "            continue\n",
    "\n",
    "        if tentativa not in PALAVRA:\n",
    "            print(f'\\nA letra \"{tentativa}\" não existe na palavra')\n",
    "            ERROU += 1\n",
    "\n",
    "        DIGITADAS.append(tentativa)\n",
    "\n",
    "        for letra in PALAVRA:\n",
    "            if tentativa == letra:\n",
    "                CERTAS.append(tentativa)\n",
    "        for i in PALAVRA:\n",
    "            if i in CERTAS:\n",
    "                secreta += i\n",
    "            else:\n",
    "                secreta += '.'\n",
    "        print(secreta)\n",
    "\n",
    "    else:\n",
    "        print(f'\\nDigite apenas letras!')"
   ]
  }
 ],
 "metadata": {
  "kernelspec": {
   "display_name": "Python 3 (ipykernel)",
   "language": "python",
   "name": "python3"
  },
  "language_info": {
   "codemirror_mode": {
    "name": "ipython",
    "version": 3
   },
   "file_extension": ".py",
   "mimetype": "text/x-python",
   "name": "python",
   "nbconvert_exporter": "python",
   "pygments_lexer": "ipython3",
   "version": "3.9.7"
  }
 },
 "nbformat": 4,
 "nbformat_minor": 5
}
