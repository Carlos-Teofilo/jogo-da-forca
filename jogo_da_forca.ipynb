{
 "cells": [
  {
   "cell_type": "markdown",
   "id": "0a8b96e7",
   "metadata": {},
   "source": [
    "# Jogo da Forca"
   ]
  },
  {
   "cell_type": "code",
   "execution_count": null,
   "id": "f3cd355d",
   "metadata": {},
   "outputs": [],
   "source": [
    "palavra = input('Digite a palavra: ').lower().strip()\n",
    "digitadas = []\n",
    "certas = []\n",
    "errou = 0"
   ]
  },
  {
   "cell_type": "code",
   "execution_count": null,
   "id": "79aefc9f",
   "metadata": {},
   "outputs": [],
   "source": [
    "while True:\n",
    "    print(f\"\\nVocê tem {6 - errou} chance's\")\n",
    "    secreta = ''\n",
    "\n",
    "    for i in palavra:\n",
    "        if i in certas:\n",
    "            secreta += i\n",
    "        else:\n",
    "            secreta = ''\n",
    "            break\n",
    "\n",
    "    if secreta == palavra:\n",
    "        print('\\nVocê ganhou!')\n",
    "        break\n",
    "\n",
    "    if errou == 6:\n",
    "        print('\\nVocê foi enforcado!')\n",
    "        break\n",
    "\n",
    "    tentativa = input('Digite uma letra: ').lower().strip()\n",
    "    if tentativa.isalpha():\n",
    "        if len(tentativa) > 1:\n",
    "            print('\\nVocê só pode digitar uma letra por vez')\n",
    "            del tentativa\n",
    "            continue\n",
    "\n",
    "        if tentativa in digitadas:\n",
    "            print(f'\\nVocê já digitou a letra \"{tentativa}\"')\n",
    "            del tentativa\n",
    "            continue\n",
    "\n",
    "        if tentativa not in palavra:\n",
    "            print(f'\\nA letra \"{tentativa}\" não existe na palavra')\n",
    "            errou += 1\n",
    "\n",
    "        digitadas.append(tentativa)\n",
    "\n",
    "        for letra in palavra:\n",
    "            if tentativa == letra:\n",
    "                certas.append(tentativa)\n",
    "        for i in palavra:\n",
    "            if i in certas:\n",
    "                secreta += i\n",
    "            else:\n",
    "                secreta += '.'\n",
    "        print(secreta)\n",
    "\n",
    "    else:\n",
    "        print(f'\\nDigite apenas letras!')"
   ]
  }
 ],
 "metadata": {
  "kernelspec": {
   "display_name": "Python 3 (ipykernel)",
   "language": "python",
   "name": "python3"
  },
  "language_info": {
   "codemirror_mode": {
    "name": "ipython",
    "version": 3
   },
   "file_extension": ".py",
   "mimetype": "text/x-python",
   "name": "python",
   "nbconvert_exporter": "python",
   "pygments_lexer": "ipython3",
   "version": "3.9.7"
  }
 },
 "nbformat": 4,
 "nbformat_minor": 5
}
